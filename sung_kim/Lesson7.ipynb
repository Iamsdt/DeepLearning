{
 "cells": [
  {
   "cell_type": "code",
   "execution_count": 4,
   "metadata": {
    "collapsed": false
   },
   "outputs": [],
   "source": [
    "import torch\n",
    "from torch.autograd import Variable\n",
    "import numpy as np\n",
    "\n",
    "# load data\n",
    "path = \"E:\\Workspace\\pyCharm\\DeepLearning\\sung_kim\\data\\diabetes.csv\"\n",
    "xy = np.loadtxt(path, delimiter=',', dtype=np.float32)\n",
    "\n",
    "# prepare data\n",
    "x_data = Variable(torch.from_numpy(xy[:,0:-1]))\n",
    "y_data = Variable(torch.from_numpy(xy[:,[-1]]))"
   ]
  },
  {
   "cell_type": "code",
   "execution_count": 8,
   "metadata": {},
   "outputs": [
    {
     "name": "stdout",
     "output_type": "stream",
     "text": [
      "torch.Size([759, 8])\ntorch.Size([759, 1])\n"
     ]
    }
   ],
   "source": [
    "# print the size and shape\n",
    "print(x_data.data.shape)\n",
    "print(y_data.data.shape)"
   ]
  },
  {
   "cell_type": "code",
   "execution_count": 31,
   "metadata": {},
   "outputs": [],
   "source": [
    "# create model\n",
    "import torch.nn as N\n",
    "\n",
    "\n",
    "class Model(N.Module):\n",
    "    def __init__(self):\n",
    "        super(Model, self).__init__()\n",
    "\n",
    "        # linear function\n",
    "        self.linear1 = N.Linear(8, 8)\n",
    "        self.linear2 = N.Linear(8, 7)\n",
    "        self.linear3 = N.Linear(7, 6)\n",
    "        self.linear4 = N.Linear(6, 5)\n",
    "        self.linear5 = N.Linear(5, 4)\n",
    "        self.linear6 = N.Linear(4, 3)\n",
    "        self.linear7 = N.Linear(3, 2)\n",
    "        self.linear8 = N.Linear(2, 1)\n",
    "\n",
    "        # activation function\n",
    "        self.sigmoid = N.Sigmoid()\n",
    "\n",
    "    def forward(self, x):\n",
    "        out1 = self.sigmoid(self.linear1(x))\n",
    "        out2 = self.sigmoid(self.linear2(out1))\n",
    "        out3 = self.sigmoid(self.linear3(out2))\n",
    "        out4 = self.sigmoid(self.linear4(out3))\n",
    "        out5 = self.sigmoid(self.linear5(out4))\n",
    "        out6 = self.sigmoid(self.linear6(out5))\n",
    "        out7 = self.sigmoid(self.linear7(out6))\n",
    "        # last layer\n",
    "        y_pred = self.sigmoid(self.linear8(out7))\n",
    "\n",
    "        return y_pred\n"
   ]
  },
  {
   "cell_type": "code",
   "execution_count": 35,
   "metadata": {},
   "outputs": [],
   "source": [
    "model = Model()\n",
    "# criterion\n",
    "criterion = N.BCELoss(size_average=True)\n",
    "optimizer = torch.optim.Adam(model.parameters(), lr=0.01)\n"
   ]
  },
  {
   "cell_type": "code",
   "execution_count": 37,
   "metadata": {},
   "outputs": [
    {
     "name": "stdout",
     "output_type": "stream",
     "text": [
      "Epoch:  0 Loss:  0.47695139050483704\n"
     ]
    },
    {
     "name": "stdout",
     "output_type": "stream",
     "text": [
      "Epoch:  100 Loss:  0.4769432544708252\n"
     ]
    },
    {
     "name": "stdout",
     "output_type": "stream",
     "text": [
      "Epoch:  200 Loss:  0.476937472820282\n"
     ]
    },
    {
     "name": "stdout",
     "output_type": "stream",
     "text": [
      "Epoch:  300 Loss:  0.47693413496017456\n"
     ]
    },
    {
     "name": "stdout",
     "output_type": "stream",
     "text": [
      "Epoch:  400 Loss:  0.4769302010536194\n"
     ]
    },
    {
     "name": "stdout",
     "output_type": "stream",
     "text": [
      "Epoch:  500 Loss:  0.4769255816936493\n"
     ]
    },
    {
     "name": "stdout",
     "output_type": "stream",
     "text": [
      "Epoch:  600 Loss:  0.47692441940307617\n"
     ]
    },
    {
     "name": "stdout",
     "output_type": "stream",
     "text": [
      "Epoch:  700 Loss:  0.4769236445426941\n"
     ]
    },
    {
     "name": "stdout",
     "output_type": "stream",
     "text": [
      "Epoch:  800 Loss:  0.4769212603569031\n"
     ]
    },
    {
     "name": "stdout",
     "output_type": "stream",
     "text": [
      "Epoch:  900 Loss:  0.47691890597343445\n"
     ]
    }
   ],
   "source": [
    "# train\n",
    "for epoch in range(1000):\n",
    "    y_pred = model.forward(x_data)\n",
    "    loss = criterion(y_pred, y_data)\n",
    "    if epoch % 100 == 0:\n",
    "        print(\"Epoch: \", epoch, \"Loss: \", loss.item())\n",
    "    \n",
    "    # optimizer zero gradient\n",
    "    optimizer.zero_grad()\n",
    "    loss.backward()\n",
    "    optimizer.step()\n",
    "    "
   ]
  },
  {
   "cell_type": "code",
   "execution_count": null,
   "metadata": {},
   "outputs": [],
   "source": []
  }
 ],
 "metadata": {
  "kernelspec": {
   "display_name": "Python 2",
   "language": "python",
   "name": "python2"
  },
  "language_info": {
   "codemirror_mode": {
    "name": "ipython",
    "version": 2
   },
   "file_extension": ".py",
   "mimetype": "text/x-python",
   "name": "python",
   "nbconvert_exporter": "python",
   "pygments_lexer": "ipython2",
   "version": "2.7.6"
  }
 },
 "nbformat": 4,
 "nbformat_minor": 0
}
