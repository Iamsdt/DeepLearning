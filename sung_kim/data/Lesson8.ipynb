{
 "cells": [
  {
   "cell_type": "code",
   "execution_count": 18,
   "metadata": {
    "collapsed": true
   },
   "outputs": [],
   "source": [
    "# create custom data loader\n",
    "import torch\n",
    "import numpy as np\n",
    "from torch.autograd import Variable\n",
    "from torch.utils.data import Dataset, DataLoader\n",
    "\n",
    "\n",
    "class DiabetesDataSet(Dataset):\n",
    "    def __init__(self):\n",
    "        path = \"E:\\Workspace\\pyCharm\\DeepLearning\\sung_kim\\data\\diabetes.csv\"\n",
    "        xy = np.loadtxt(path, delimiter=',', dtype=np.float32)\n",
    "        self.size = xy.shape[0]\n",
    "        # prepare data\n",
    "        self.x_data = Variable(torch.from_numpy(xy[:, 0:-1]))\n",
    "        self.y_data = Variable(torch.from_numpy(xy[:, [-1]]))\n",
    "        \n",
    "    def __getitem__(self, index):\n",
    "        return self.x_data[item], self.y_data[item]\n",
    "\n",
    "    def __len__(self):\n",
    "        return self.size\n"
   ]
  },
  {
   "cell_type": "code",
   "execution_count": 22,
   "metadata": {},
   "outputs": [],
   "source": [
    "# prepare dataset\n",
    "dataset = Dataset()\n",
    "train_loader = DataLoader(dataset=dataset,\n",
    "                          batch_size=32,\n",
    "                          shuffle=True,\n",
    "                          num_workers=2)\n"
   ]
  },
  {
   "cell_type": "code",
   "execution_count": null,
   "metadata": {},
   "outputs": [],
   "source": [
    "# create model\n",
    "import torch.nn as N\n",
    "\n",
    "\n",
    "class Model(N.Module):\n",
    "    def __init__(self):\n",
    "        super(Model, self).__init__()\n",
    "\n",
    "        # linear function\n",
    "        self.linear1 = N.Linear(8, 8)\n",
    "        self.linear2 = N.Linear(8, 7)\n",
    "        self.linear3 = N.Linear(7, 6)\n",
    "        self.linear4 = N.Linear(6, 5)\n",
    "        self.linear5 = N.Linear(5, 4)\n",
    "        self.linear6 = N.Linear(4, 3)\n",
    "        self.linear7 = N.Linear(3, 2)\n",
    "        self.linear8 = N.Linear(2, 1)\n",
    "\n",
    "        # activation function\n",
    "        self.sigmoid = N.Sigmoid()\n",
    "\n",
    "    def forward(self, x):\n",
    "        out1 = self.sigmoid(self.linear1(x))\n",
    "        out2 = self.sigmoid(self.linear2(out1))\n",
    "        out3 = self.sigmoid(self.linear3(out2))\n",
    "        out4 = self.sigmoid(self.linear4(out3))\n",
    "        out5 = self.sigmoid(self.linear5(out4))\n",
    "        out6 = self.sigmoid(self.linear6(out5))\n",
    "        out7 = self.sigmoid(self.linear7(out6))\n",
    "        # last layer\n",
    "        y_pred = self.sigmoid(self.linear8(out7))\n",
    "\n",
    "        return y_pred\n"
   ]
  },
  {
   "cell_type": "code",
   "execution_count": null,
   "metadata": {},
   "outputs": [],
   "source": [
    "model = Model()\n",
    "# criterion\n",
    "criterion = N.BCELoss(size_average=True)\n",
    "optimizer = torch.optim.SGD(model.parameters(), lr=0.01)"
   ]
  },
  {
   "cell_type": "code",
   "execution_count": 24,
   "metadata": {},
   "outputs": [],
   "source": [
    "for epoch in range(2):\n",
    "    for i, data in enumerate(tain_loader, 0):\n",
    "        # get the inputs\n",
    "        inputs, labels = data\n",
    "        \n",
    "        # wrap them in Variable\n",
    "        inputs, labels = Variable(inputs), Variable(labels)\n",
    "        \n",
    "        # Forward pass: Compute predicted y by passing x to the model\n",
    "        y_pred = model(inputs)\n",
    "\n",
    "        # Compute and print loss\n",
    "        loss = criterion(y_pred, labels)\n",
    "        print(epoch, i, loss.data[0])\n",
    "        \n",
    "        # Zero gradients, perform a backward pass, and update the weights.\n",
    "        optimizer.zero_grad()\n",
    "        loss.backward()\n",
    "        optimizer.step()\n",
    "\n"
   ]
  },
  {
   "cell_type": "code",
   "execution_count": null,
   "metadata": {},
   "outputs": [],
   "source": []
  }
 ],
 "metadata": {
  "kernelspec": {
   "display_name": "Python 2",
   "language": "python",
   "name": "python2"
  },
  "language_info": {
   "codemirror_mode": {
    "name": "ipython",
    "version": 2
   },
   "file_extension": ".py",
   "mimetype": "text/x-python",
   "name": "python",
   "nbconvert_exporter": "python",
   "pygments_lexer": "ipython2",
   "version": "2.7.6"
  }
 },
 "nbformat": 4,
 "nbformat_minor": 0
}
