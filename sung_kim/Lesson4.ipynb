{
 "cells": [
  {
   "cell_type": "code",
   "execution_count": null,
   "metadata": {},
   "outputs": [],
   "source": [
    "# using pytorch backward propagation\n"
   ]
  },
  {
   "cell_type": "code",
   "execution_count": 5,
   "metadata": {
    "id": "BFfjUJGOzMkg",
    "colab_type": "code",
    "colab": {
     "base_uri": "https://localhost:8080/",
     "height": 34.0
    },
    "outputId": "abc1977c-1c07-460e-f37a-8760bd5233b3"
   },
   "outputs": [
    {
     "name": "stdout",
     "output_type": "stream",
     "text": [
      "tensor([1.], requires_grad=True)\n"
     ]
    }
   ],
   "source": [
    "import torch\n",
    "from torch.autograd import Variable\n",
    "\n",
    "# data\n",
    "x_data = [1, 2, 3, 4, 5]\n",
    "y_data = [2, 4, 6, 8, 10]\n",
    "\n",
    "# weight\n",
    "w = Variable(torch.Tensor([1.0]), requires_grad = True)\n",
    "print(w)"
   ]
  },
  {
   "cell_type": "markdown",
   "metadata": {
    "id": "5OG5kh-L0qki",
    "colab_type": "text"
   },
   "source": [
    "Forward function"
   ]
  },
  {
   "cell_type": "code",
   "execution_count": 0,
   "metadata": {
    "id": "NzhkqMm10qAZ",
    "colab_type": "code",
    "colab": {}
   },
   "outputs": [],
   "source": [
    "def forward(x):\n",
    "  return x * w\n",
    "\n",
    "\n",
    "def loss(x,y):\n",
    "  y_p = forward(x)\n",
    "  return (y_p - y) * (y_p - y)"
   ]
  },
  {
   "cell_type": "code",
   "execution_count": 7,
   "metadata": {
    "id": "e64vPxmL1JMF",
    "colab_type": "code",
    "colab": {
     "base_uri": "https://localhost:8080/",
     "height": 52.0
    },
    "outputId": "9a7b1967-e637-4c2d-e7f1-4611c19c93dd"
   },
   "outputs": [
    {
     "name": "stdout",
     "output_type": "stream",
     "text": [
      "<class 'torch.Tensor'>\n",
      "Before training:  tensor(9.)\n"
     ]
    }
   ],
   "source": [
    "# before training\n",
    "d = forward(9)\n",
    "print(type(d))\n",
    "print(\"Before training: \", forward(9).data[0])"
   ]
  },
  {
   "cell_type": "code",
   "execution_count": 9,
   "metadata": {
    "id": "yiZNb7RA1tHs",
    "colab_type": "code",
    "colab": {
     "base_uri": "https://localhost:8080/",
     "height": 1101.0
    },
    "outputId": "eecf3a99-d992-45d3-f75b-f183dc8df6db"
   },
   "outputs": [
    {
     "name": "stdout",
     "output_type": "stream",
     "text": [
      "\tGrand: 1 2 tensor(-3.9600)\n",
      "\tGrand: 2 4 tensor(-7.5232)\n",
      "\tGrand: 3 6 tensor(-15.5730)\n",
      "\tGrand: 4 8 tensor(-22.7020)\n",
      "\tGrand: 5 10 tensor(-24.1209)\n",
      "Progrss:  0 tensor(5.8182)\n",
      "\tGrand: 1 2 tensor(-0.4824)\n",
      "\tGrand: 2 4 tensor(-1.8911)\n",
      "\tGrand: 3 6 tensor(-3.9145)\n",
      "\tGrand: 4 8 tensor(-5.7065)\n",
      "\tGrand: 5 10 tensor(-6.0632)\n",
      "Progrss:  1 tensor(0.3676)\n",
      "\tGrand: 1 2 tensor(-0.1213)\n",
      "\tGrand: 2 4 tensor(-0.4754)\n",
      "\tGrand: 3 6 tensor(-0.9840)\n",
      "\tGrand: 4 8 tensor(-1.4344)\n",
      "\tGrand: 5 10 tensor(-1.5241)\n",
      "Progrss:  2 tensor(0.0232)\n",
      "\tGrand: 1 2 tensor(-0.0305)\n",
      "\tGrand: 2 4 tensor(-0.1195)\n",
      "\tGrand: 3 6 tensor(-0.2473)\n",
      "\tGrand: 4 8 tensor(-0.3606)\n",
      "\tGrand: 5 10 tensor(-0.3831)\n",
      "Progrss:  3 tensor(0.0015)\n",
      "\tGrand: 1 2 tensor(-0.0077)\n",
      "\tGrand: 2 4 tensor(-0.0300)\n",
      "\tGrand: 3 6 tensor(-0.0622)\n",
      "\tGrand: 4 8 tensor(-0.0906)\n",
      "\tGrand: 5 10 tensor(-0.0963)\n",
      "Progrss:  4 tensor(9.2741e-05)\n",
      "\tGrand: 1 2 tensor(-0.0019)\n",
      "\tGrand: 2 4 tensor(-0.0075)\n",
      "\tGrand: 3 6 tensor(-0.0156)\n",
      "\tGrand: 4 8 tensor(-0.0228)\n",
      "\tGrand: 5 10 tensor(-0.0242)\n",
      "Progrss:  5 tensor(5.8585e-06)\n",
      "\tGrand: 1 2 tensor(-0.0005)\n",
      "\tGrand: 2 4 tensor(-0.0019)\n",
      "\tGrand: 3 6 tensor(-0.0039)\n",
      "\tGrand: 4 8 tensor(-0.0057)\n",
      "\tGrand: 5 10 tensor(-0.0061)\n",
      "Progrss:  6 tensor(3.7020e-07)\n",
      "\tGrand: 1 2 tensor(-0.0001)\n",
      "\tGrand: 2 4 tensor(-0.0005)\n",
      "\tGrand: 3 6 tensor(-0.0010)\n",
      "\tGrand: 4 8 tensor(-0.0014)\n",
      "\tGrand: 5 10 tensor(-0.0015)\n",
      "Progrss:  7 tensor(2.3575e-08)\n",
      "\tGrand: 1 2 tensor(-3.0518e-05)\n",
      "\tGrand: 2 4 tensor(-0.0001)\n",
      "\tGrand: 3 6 tensor(-0.0002)\n",
      "\tGrand: 4 8 tensor(-0.0004)\n",
      "\tGrand: 5 10 tensor(-0.0004)\n",
      "Progrss:  8 tensor(1.4552e-09)\n",
      "\tGrand: 1 2 tensor(-7.6294e-06)\n",
      "\tGrand: 2 4 tensor(-2.9564e-05)\n",
      "\tGrand: 3 6 tensor(-6.2943e-05)\n",
      "\tGrand: 4 8 tensor(-9.1553e-05)\n",
      "\tGrand: 5 10 tensor(-9.5367e-05)\n",
      "Progrss:  9 tensor(9.0949e-11)\n",
      "After training:  tensor(18.0000)\n"
     ]
    }
   ],
   "source": [
    "# Training loop\n",
    "for epoch in range(10):\n",
    "  for x, y in zip(x_data, y_data):\n",
    "    l = loss(x, y) # forward pass and loss calculation\n",
    "    l.backward() # backward propagation\n",
    "    print(\"\\tGrand:\",x, y, w.grad.data[0])\n",
    "    w.data = w.data - 0.01 * w.grad.data # updating weight\n",
    "    \n",
    "    #zero the gradient\n",
    "    w.grad.data.zero_()\n",
    "  \n",
    "  print(\"Progrss: \", epoch, l.data[0])\n",
    "\n",
    "print(\"After training: \", forward(9).data[0])"
   ]
  }
 ],
 "metadata": {
  "colab": {
   "name": "Lesson4.ipynb",
   "version": "0.3.2",
   "provenance": []
  },
  "kernelspec": {
   "name": "python3",
   "display_name": "Python 3"
  }
 },
 "nbformat": 4,
 "nbformat_minor": 0
}
